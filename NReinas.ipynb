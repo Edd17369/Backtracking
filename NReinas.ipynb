{
  "nbformat": 4,
  "nbformat_minor": 0,
  "metadata": {
    "colab": {
      "provenance": [],
      "authorship_tag": "ABX9TyNR2TplL3xLnubuLV/TSU0S",
      "include_colab_link": true
    },
    "kernelspec": {
      "name": "python3",
      "display_name": "Python 3"
    },
    "language_info": {
      "name": "python"
    }
  },
  "cells": [
    {
      "cell_type": "markdown",
      "metadata": {
        "id": "view-in-github",
        "colab_type": "text"
      },
      "source": [
        "<a href=\"https://colab.research.google.com/github/Edd17369/Algorithms/blob/master/NReinas.ipynb\" target=\"_parent\"><img src=\"https://colab.research.google.com/assets/colab-badge.svg\" alt=\"Open In Colab\"/></a>"
      ]
    },
    {
      "cell_type": "markdown",
      "source": [
        "# Problema de las N-Reinas"
      ],
      "metadata": {
        "id": "_XcdvWXaX04R"
      }
    },
    {
      "cell_type": "markdown",
      "source": [
        "## a) Codificación entera"
      ],
      "metadata": {
        "id": "J43XcgFMYBOc"
      }
    },
    {
      "cell_type": "code",
      "source": [
        "import itertools\n",
        "from collections import Counter\n",
        "import random\n",
        "import numpy as np\n",
        "\n",
        "tam_poblacion = 10\n",
        "num_generaciones = 1000\n",
        "prob_cruza = 0.8\n",
        "prob_mutacion = 0.01\n",
        "n=10\n",
        "\n",
        "\n",
        "# permutaciones\n",
        "numeros = list(range(1,n+1))\n",
        "muestra_permutaciones = random.sample(list(itertools.permutations(numeros)), tam_poblacion)\n",
        "\n",
        "# aptitud\n",
        "def fitness_individuo(individuo):\n",
        "  \"\"\"\n",
        "  Dado un individuo calcula su número de coliciones\n",
        "  \"\"\"\n",
        "  n = len(individuo)\n",
        "  coliciones = 0\n",
        "  for i in range(n):\n",
        "    for j in range(i+1,n):\n",
        "      if abs(i-j) == abs(individuo[i]-individuo[j]):\n",
        "                  coliciones += 1\n",
        "  return coliciones\n",
        "\n",
        "def fitness(poblacion):\n",
        "  \"\"\"\n",
        "  Calcula la aptitud para todos los individuos de la poblacion y los ordena segun esta\n",
        "  \"\"\"\n",
        "  for individuo in poblacion:\n",
        "      individuo.aptitud = fitness_individuo(individuo.genotipo)\n",
        "  poblacion.sort(key=lambda x: x.aptitud)  \n",
        "\n",
        "\n",
        "\n",
        "# Individuos\n",
        "class Individuo:\n",
        "    def __init__(self, genotipo):\n",
        "        self.genotipo = genotipo\n",
        "        self.aptitud = None\n",
        "\n",
        "\n",
        "\n",
        "# Seleccion\n",
        "def ruleta(poblacion):\n",
        "    fitness_total = sum([ind.aptitud for ind in poblacion])\n",
        "    seleccionados = []\n",
        "    for i in range(len(poblacion)):\n",
        "        r = np.random.uniform(0, fitness_total)\n",
        "        acumulado = 0\n",
        "        for ind in poblacion:\n",
        "            acumulado += ind.aptitud\n",
        "            if acumulado > r:\n",
        "                seleccionados.append(ind)\n",
        "                break\n",
        "    return seleccionados\n",
        "\n",
        "\n",
        "# Cruza (single point)\n",
        "def cruza(padre1, padre2):\n",
        "    n = len(padre1.genotipo)\n",
        "    pnt_cruza = np.random.randint(1, n)\n",
        "    gen1 = np.concatenate((padre1.genotipo[:pnt_cruza], padre2.genotipo[pnt_cruza:]), axis=0)\n",
        "    gen2 = np.concatenate((padre2.genotipo[:pnt_cruza], padre1.genotipo[pnt_cruza:]), axis=0)\n",
        "  \n",
        "    genes = list(range(1,n+1))\n",
        "\n",
        "    for gen in [gen1, gen2]:\n",
        "      disponibles = list(set(range(1,n+1)).difference(set(gen)))\n",
        "      new_gen = []\n",
        "      for x in gen:\n",
        "        if x not in new_gen:\n",
        "          new_gen.append(x)\n",
        "        else:\n",
        "          new_gen.append(disponibles.pop(0))\n",
        "      gen = new_gen\n",
        "\n",
        "    hijo1 = Individuo(gen1)\n",
        "    hijo2 = Individuo(gen2)\n",
        "    return hijo1, hijo2\n",
        "\n",
        "\n",
        "# Mutación\n",
        "def mutacion(poblacion, prob_mutacion): \n",
        "  for i in range(len(poblacion)):\n",
        "    if np.random.uniform(0, 1) < prob_mutacion:\n",
        "      individuo = poblacion[i]\n",
        "      pnts = np.random.randint(0, len(individuo.genotipo), size=2, dtype=int)\n",
        "      new_gen = list(individuo.genotipo)\n",
        "      new_gen[pnts[0]], new_gen[pnts[1]] = new_gen[pnts[1]], new_gen[pnts[0]]\n",
        "      individuo.genotipo = new_gen\n",
        "\n",
        "\n",
        "\n",
        "\n",
        "# Inicializa la poblacion\n",
        "poblacion = []\n",
        "for _ in muestra_permutaciones:\n",
        "  poblacion.append(Individuo(_))\n",
        "\n",
        "fitness(poblacion)\n",
        "generacion = 1\n",
        "\n",
        "\n",
        "\n",
        "fitness(poblacion)\n",
        "mutacion(poblacion, prob_mutacion)\n",
        "[(ind.genotipo, ind.aptitud) for ind in poblacion] \n",
        "seleccionados = ruleta(poblacion[1:])\n",
        "\n",
        "[(ind.genotipo, ind.aptitud) for ind in seleccionados] \n"
      ],
      "metadata": {
        "id": "8PeXD4886Jci",
        "colab": {
          "base_uri": "https://localhost:8080/"
        },
        "outputId": "084ff34e-775b-4d3f-df10-84ac7a6f4107"
      },
      "execution_count": 106,
      "outputs": [
        {
          "output_type": "execute_result",
          "data": {
            "text/plain": [
              "[((7, 3, 9, 5, 10, 2, 6, 8, 4, 1), 4),\n",
              " ((8, 5, 9, 3, 1, 10, 7, 2, 6, 4), 3),\n",
              " ([4, 6, 10, 1, 3, 5, 2, 9, 7, 8], 3),\n",
              " ([4, 6, 10, 1, 3, 5, 2, 9, 7, 8], 3),\n",
              " ((8, 2, 7, 9, 5, 6, 4, 3, 10, 1), 7),\n",
              " ((3, 10, 4, 7, 1, 6, 8, 2, 9, 5), 4),\n",
              " ((10, 4, 7, 6, 2, 9, 3, 8, 1, 5), 8),\n",
              " ((10, 4, 7, 6, 2, 9, 3, 8, 1, 5), 8),\n",
              " ((8, 2, 7, 9, 5, 6, 4, 3, 10, 1), 7)]"
            ]
          },
          "metadata": {},
          "execution_count": 106
        }
      ]
    },
    {
      "cell_type": "code",
      "source": [
        "while (generacion < num_generaciones) or (poblacion[0].aptitud != 0):\n",
        "  # elitismo del mejor individuo\n",
        "  seleccionados = ruleta(poblacion[1:])\n",
        "  hijos = [poblacion[0]]\n",
        "      \n",
        "  while len(hijos) < tam_poblacion:\n",
        "    i, j = np.random.randint(0, len(seleccionados), size=2, dtype=int)\n",
        "    if random.random() < prob_cruza:\n",
        "        hijos += cruza(seleccionados[i], seleccionados[j])\n",
        "    else:\n",
        "        hijos += [seleccionados[i], seleccionados[j]]\n",
        "\n",
        "  poblacion = hijos\n",
        "  mutacion(poblacion, prob_mutacion)\n",
        "  fitness(poblacion)\n",
        "  generacion += 1\n",
        "  \n",
        "    \n",
        "  print(poblacion[0].genotipo, poblacion[0].aptitud)\n"
      ],
      "metadata": {
        "colab": {
          "base_uri": "https://localhost:8080/"
        },
        "id": "ZA6JGVOMYwqU",
        "outputId": "24d94fda-f85a-4f30-97c9-4c4333c7c81b"
      },
      "execution_count": 81,
      "outputs": [
        {
          "output_type": "execute_result",
          "data": {
            "text/plain": [
              "array([6, 1])"
            ]
          },
          "metadata": {},
          "execution_count": 81
        }
      ]
    },
    {
      "cell_type": "code",
      "source": [
        "\n"
      ],
      "metadata": {
        "colab": {
          "base_uri": "https://localhost:8080/"
        },
        "id": "cBUc4eGxY4rv",
        "outputId": "4c4c07dd-7714-4cdb-a76d-1573f09bb6be"
      },
      "execution_count": 14,
      "outputs": [
        {
          "output_type": "execute_result",
          "data": {
            "text/plain": [
              "6"
            ]
          },
          "metadata": {},
          "execution_count": 14
        }
      ]
    }
  ]
}